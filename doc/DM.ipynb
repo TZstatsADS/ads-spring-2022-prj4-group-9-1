{
  "cells": [
    {
      "cell_type": "markdown",
      "metadata": {
        "id": "view-in-github",
        "colab_type": "text"
      },
      "source": [
        "<a href=\"https://colab.research.google.com/github/TZstatsADS/ads-spring-2022-prj4-group-9-1/blob/main/doc/DM.ipynb\" target=\"_parent\"><img src=\"https://colab.research.google.com/assets/colab-badge.svg\" alt=\"Open In Colab\"/></a>"
      ]
    },
    {
      "cell_type": "markdown",
      "source": [
        "# 0. Introduction of the Problem:"
      ],
      "metadata": {
        "id": "MIEU08drjbv0"
      },
      "id": "MIEU08drjbv0"
    },
    {
      "cell_type": "markdown",
      "source": [
        "## DM model explained :"
      ],
      "metadata": {
        "id": "hshaYVqPjh-z"
      },
      "id": "hshaYVqPjh-z"
    },
    {
      "cell_type": "markdown",
      "source": [
        "## Loading the used packages"
      ],
      "metadata": {
        "id": "TRT1P-q-jn1O"
      },
      "id": "TRT1P-q-jn1O"
    },
    {
      "cell_type": "code",
      "execution_count": 2,
      "id": "a879f3cc",
      "metadata": {
        "id": "a879f3cc",
        "colab": {
          "base_uri": "https://localhost:8080/"
        },
        "outputId": "86985fd5-72ac-4956-c096-ecc6830d0dcd"
      },
      "outputs": [
        {
          "output_type": "stream",
          "name": "stdout",
          "text": [
            "Collecting dccp\n",
            "  Downloading dccp-1.0.4.tar.gz (8.0 kB)\n",
            "Requirement already satisfied: cvxpy>=0.3.5 in /usr/local/lib/python3.7/dist-packages (from dccp) (1.0.31)\n",
            "Requirement already satisfied: osqp>=0.4.1 in /usr/local/lib/python3.7/dist-packages (from cvxpy>=0.3.5->dccp) (0.6.2.post0)\n",
            "Requirement already satisfied: scipy>=1.1.0 in /usr/local/lib/python3.7/dist-packages (from cvxpy>=0.3.5->dccp) (1.4.1)\n",
            "Requirement already satisfied: ecos>=2 in /usr/local/lib/python3.7/dist-packages (from cvxpy>=0.3.5->dccp) (2.0.10)\n",
            "Requirement already satisfied: scs>=1.1.3 in /usr/local/lib/python3.7/dist-packages (from cvxpy>=0.3.5->dccp) (3.2.0)\n",
            "Requirement already satisfied: numpy>=1.15 in /usr/local/lib/python3.7/dist-packages (from cvxpy>=0.3.5->dccp) (1.21.5)\n",
            "Requirement already satisfied: multiprocess in /usr/local/lib/python3.7/dist-packages (from cvxpy>=0.3.5->dccp) (0.70.12.2)\n",
            "Requirement already satisfied: qdldl in /usr/local/lib/python3.7/dist-packages (from osqp>=0.4.1->cvxpy>=0.3.5->dccp) (0.1.5.post0)\n",
            "Requirement already satisfied: dill>=0.3.4 in /usr/local/lib/python3.7/dist-packages (from multiprocess->cvxpy>=0.3.5->dccp) (0.3.4)\n",
            "Building wheels for collected packages: dccp\n",
            "  Building wheel for dccp (setup.py) ... \u001b[?25l\u001b[?25hdone\n",
            "  Created wheel for dccp: filename=dccp-1.0.4-py3-none-any.whl size=7386 sha256=f303e782fffafc01b83df7b1a575fb35e88aeb6a5bc1554e6e4e8d07f317c2d2\n",
            "  Stored in directory: /root/.cache/pip/wheels/44/a0/2b/8944fc49959e6ae8cc9584719c236016c214a04baf6516e24d\n",
            "Successfully built dccp\n",
            "Installing collected packages: dccp\n",
            "Successfully installed dccp-1.0.4\n"
          ]
        }
      ],
      "source": [
        "#Loading the desired packages\n",
        "!pip install dccp\n",
        "import pandas as pd\n",
        "import numpy as np\n",
        "from sklearn.model_selection import train_test_split\n",
        "import cvxpy as cp\n",
        "import dccp\n",
        "import matplotlib.pyplot as plt"
      ]
    },
    {
      "cell_type": "markdown",
      "source": [
        "# 1. Data Processing:\n"
      ],
      "metadata": {
        "id": "P7lxO8KLFc0z"
      },
      "id": "P7lxO8KLFc0z"
    },
    {
      "cell_type": "markdown",
      "source": [
        "## Loading the data:"
      ],
      "metadata": {
        "id": "VyJFMOqhFqrx"
      },
      "id": "VyJFMOqhFqrx"
    },
    {
      "cell_type": "code",
      "source": [
        "data = pd.read_csv(\"/content/data/compas-scores-two-years.csv\")\n",
        "data"
      ],
      "metadata": {
        "colab": {
          "base_uri": "https://localhost:8080/",
          "height": 661
        },
        "id": "5xPpKy86DXlU",
        "outputId": "4c83736f-6869-4b0c-addf-35bb8e1c6dd8"
      },
      "id": "5xPpKy86DXlU",
      "execution_count": null,
      "outputs": [
        {
          "output_type": "execute_result",
          "data": {
            "text/plain": [
              "         id                 name      first         last  \\\n",
              "0         1     miguel hernandez     miguel    hernandez   \n",
              "1         3          kevon dixon      kevon        dixon   \n",
              "2         4             ed philo         ed        philo   \n",
              "3         5          marcu brown      marcu        brown   \n",
              "4         6   bouthy pierrelouis     bouthy  pierrelouis   \n",
              "...     ...                  ...        ...          ...   \n",
              "7209  10996        steven butler     steven       butler   \n",
              "7210  10997      malcolm simmons    malcolm      simmons   \n",
              "7211  10999      winston gregory    winston      gregory   \n",
              "7212  11000          farrah jean     farrah         jean   \n",
              "7213  11001  florencia sanmartin  florencia    sanmartin   \n",
              "\n",
              "     compas_screening_date     sex         dob  age          age_cat  \\\n",
              "0               2013-08-14    Male  1947-04-18   69  Greater than 45   \n",
              "1               2013-01-27    Male  1982-01-22   34          25 - 45   \n",
              "2               2013-04-14    Male  1991-05-14   24     Less than 25   \n",
              "3               2013-01-13    Male  1993-01-21   23     Less than 25   \n",
              "4               2013-03-26    Male  1973-01-22   43          25 - 45   \n",
              "...                    ...     ...         ...  ...              ...   \n",
              "7209            2013-11-23    Male  1992-07-17   23     Less than 25   \n",
              "7210            2014-02-01    Male  1993-03-25   23     Less than 25   \n",
              "7211            2014-01-14    Male  1958-10-01   57  Greater than 45   \n",
              "7212            2014-03-09  Female  1982-11-17   33          25 - 45   \n",
              "7213            2014-06-30  Female  1992-12-18   23     Less than 25   \n",
              "\n",
              "                  race  ...  v_decile_score  v_score_text  v_screening_date  \\\n",
              "0                Other  ...               1           Low        2013-08-14   \n",
              "1     African-American  ...               1           Low        2013-01-27   \n",
              "2     African-American  ...               3           Low        2013-04-14   \n",
              "3     African-American  ...               6        Medium        2013-01-13   \n",
              "4                Other  ...               1           Low        2013-03-26   \n",
              "...                ...  ...             ...           ...               ...   \n",
              "7209  African-American  ...               5        Medium        2013-11-23   \n",
              "7210  African-American  ...               5        Medium        2014-02-01   \n",
              "7211             Other  ...               1           Low        2014-01-14   \n",
              "7212  African-American  ...               2           Low        2014-03-09   \n",
              "7213          Hispanic  ...               4           Low        2014-06-30   \n",
              "\n",
              "      in_custody  out_custody  priors_count.1 start   end event two_year_recid  \n",
              "0     2014-07-07   2014-07-14               0     0   327     0              0  \n",
              "1     2013-01-26   2013-02-05               0     9   159     1              1  \n",
              "2     2013-06-16   2013-06-16               4     0    63     0              1  \n",
              "3            NaN          NaN               1     0  1174     0              0  \n",
              "4            NaN          NaN               2     0  1102     0              0  \n",
              "...          ...          ...             ...   ...   ...   ...            ...  \n",
              "7209  2013-11-22   2013-11-24               0     1   860     0              0  \n",
              "7210  2014-01-31   2014-02-02               0     1   790     0              0  \n",
              "7211  2014-01-13   2014-01-14               0     0   808     0              0  \n",
              "7212  2014-03-08   2014-03-09               3     0   754     0              0  \n",
              "7213  2015-03-15   2015-03-15               2     0   258     0              1  \n",
              "\n",
              "[7214 rows x 53 columns]"
            ],
            "text/html": [
              "\n",
              "  <div id=\"df-c60817ff-5b5a-482e-9662-cad884c4756c\">\n",
              "    <div class=\"colab-df-container\">\n",
              "      <div>\n",
              "<style scoped>\n",
              "    .dataframe tbody tr th:only-of-type {\n",
              "        vertical-align: middle;\n",
              "    }\n",
              "\n",
              "    .dataframe tbody tr th {\n",
              "        vertical-align: top;\n",
              "    }\n",
              "\n",
              "    .dataframe thead th {\n",
              "        text-align: right;\n",
              "    }\n",
              "</style>\n",
              "<table border=\"1\" class=\"dataframe\">\n",
              "  <thead>\n",
              "    <tr style=\"text-align: right;\">\n",
              "      <th></th>\n",
              "      <th>id</th>\n",
              "      <th>name</th>\n",
              "      <th>first</th>\n",
              "      <th>last</th>\n",
              "      <th>compas_screening_date</th>\n",
              "      <th>sex</th>\n",
              "      <th>dob</th>\n",
              "      <th>age</th>\n",
              "      <th>age_cat</th>\n",
              "      <th>race</th>\n",
              "      <th>...</th>\n",
              "      <th>v_decile_score</th>\n",
              "      <th>v_score_text</th>\n",
              "      <th>v_screening_date</th>\n",
              "      <th>in_custody</th>\n",
              "      <th>out_custody</th>\n",
              "      <th>priors_count.1</th>\n",
              "      <th>start</th>\n",
              "      <th>end</th>\n",
              "      <th>event</th>\n",
              "      <th>two_year_recid</th>\n",
              "    </tr>\n",
              "  </thead>\n",
              "  <tbody>\n",
              "    <tr>\n",
              "      <th>0</th>\n",
              "      <td>1</td>\n",
              "      <td>miguel hernandez</td>\n",
              "      <td>miguel</td>\n",
              "      <td>hernandez</td>\n",
              "      <td>2013-08-14</td>\n",
              "      <td>Male</td>\n",
              "      <td>1947-04-18</td>\n",
              "      <td>69</td>\n",
              "      <td>Greater than 45</td>\n",
              "      <td>Other</td>\n",
              "      <td>...</td>\n",
              "      <td>1</td>\n",
              "      <td>Low</td>\n",
              "      <td>2013-08-14</td>\n",
              "      <td>2014-07-07</td>\n",
              "      <td>2014-07-14</td>\n",
              "      <td>0</td>\n",
              "      <td>0</td>\n",
              "      <td>327</td>\n",
              "      <td>0</td>\n",
              "      <td>0</td>\n",
              "    </tr>\n",
              "    <tr>\n",
              "      <th>1</th>\n",
              "      <td>3</td>\n",
              "      <td>kevon dixon</td>\n",
              "      <td>kevon</td>\n",
              "      <td>dixon</td>\n",
              "      <td>2013-01-27</td>\n",
              "      <td>Male</td>\n",
              "      <td>1982-01-22</td>\n",
              "      <td>34</td>\n",
              "      <td>25 - 45</td>\n",
              "      <td>African-American</td>\n",
              "      <td>...</td>\n",
              "      <td>1</td>\n",
              "      <td>Low</td>\n",
              "      <td>2013-01-27</td>\n",
              "      <td>2013-01-26</td>\n",
              "      <td>2013-02-05</td>\n",
              "      <td>0</td>\n",
              "      <td>9</td>\n",
              "      <td>159</td>\n",
              "      <td>1</td>\n",
              "      <td>1</td>\n",
              "    </tr>\n",
              "    <tr>\n",
              "      <th>2</th>\n",
              "      <td>4</td>\n",
              "      <td>ed philo</td>\n",
              "      <td>ed</td>\n",
              "      <td>philo</td>\n",
              "      <td>2013-04-14</td>\n",
              "      <td>Male</td>\n",
              "      <td>1991-05-14</td>\n",
              "      <td>24</td>\n",
              "      <td>Less than 25</td>\n",
              "      <td>African-American</td>\n",
              "      <td>...</td>\n",
              "      <td>3</td>\n",
              "      <td>Low</td>\n",
              "      <td>2013-04-14</td>\n",
              "      <td>2013-06-16</td>\n",
              "      <td>2013-06-16</td>\n",
              "      <td>4</td>\n",
              "      <td>0</td>\n",
              "      <td>63</td>\n",
              "      <td>0</td>\n",
              "      <td>1</td>\n",
              "    </tr>\n",
              "    <tr>\n",
              "      <th>3</th>\n",
              "      <td>5</td>\n",
              "      <td>marcu brown</td>\n",
              "      <td>marcu</td>\n",
              "      <td>brown</td>\n",
              "      <td>2013-01-13</td>\n",
              "      <td>Male</td>\n",
              "      <td>1993-01-21</td>\n",
              "      <td>23</td>\n",
              "      <td>Less than 25</td>\n",
              "      <td>African-American</td>\n",
              "      <td>...</td>\n",
              "      <td>6</td>\n",
              "      <td>Medium</td>\n",
              "      <td>2013-01-13</td>\n",
              "      <td>NaN</td>\n",
              "      <td>NaN</td>\n",
              "      <td>1</td>\n",
              "      <td>0</td>\n",
              "      <td>1174</td>\n",
              "      <td>0</td>\n",
              "      <td>0</td>\n",
              "    </tr>\n",
              "    <tr>\n",
              "      <th>4</th>\n",
              "      <td>6</td>\n",
              "      <td>bouthy pierrelouis</td>\n",
              "      <td>bouthy</td>\n",
              "      <td>pierrelouis</td>\n",
              "      <td>2013-03-26</td>\n",
              "      <td>Male</td>\n",
              "      <td>1973-01-22</td>\n",
              "      <td>43</td>\n",
              "      <td>25 - 45</td>\n",
              "      <td>Other</td>\n",
              "      <td>...</td>\n",
              "      <td>1</td>\n",
              "      <td>Low</td>\n",
              "      <td>2013-03-26</td>\n",
              "      <td>NaN</td>\n",
              "      <td>NaN</td>\n",
              "      <td>2</td>\n",
              "      <td>0</td>\n",
              "      <td>1102</td>\n",
              "      <td>0</td>\n",
              "      <td>0</td>\n",
              "    </tr>\n",
              "    <tr>\n",
              "      <th>...</th>\n",
              "      <td>...</td>\n",
              "      <td>...</td>\n",
              "      <td>...</td>\n",
              "      <td>...</td>\n",
              "      <td>...</td>\n",
              "      <td>...</td>\n",
              "      <td>...</td>\n",
              "      <td>...</td>\n",
              "      <td>...</td>\n",
              "      <td>...</td>\n",
              "      <td>...</td>\n",
              "      <td>...</td>\n",
              "      <td>...</td>\n",
              "      <td>...</td>\n",
              "      <td>...</td>\n",
              "      <td>...</td>\n",
              "      <td>...</td>\n",
              "      <td>...</td>\n",
              "      <td>...</td>\n",
              "      <td>...</td>\n",
              "      <td>...</td>\n",
              "    </tr>\n",
              "    <tr>\n",
              "      <th>7209</th>\n",
              "      <td>10996</td>\n",
              "      <td>steven butler</td>\n",
              "      <td>steven</td>\n",
              "      <td>butler</td>\n",
              "      <td>2013-11-23</td>\n",
              "      <td>Male</td>\n",
              "      <td>1992-07-17</td>\n",
              "      <td>23</td>\n",
              "      <td>Less than 25</td>\n",
              "      <td>African-American</td>\n",
              "      <td>...</td>\n",
              "      <td>5</td>\n",
              "      <td>Medium</td>\n",
              "      <td>2013-11-23</td>\n",
              "      <td>2013-11-22</td>\n",
              "      <td>2013-11-24</td>\n",
              "      <td>0</td>\n",
              "      <td>1</td>\n",
              "      <td>860</td>\n",
              "      <td>0</td>\n",
              "      <td>0</td>\n",
              "    </tr>\n",
              "    <tr>\n",
              "      <th>7210</th>\n",
              "      <td>10997</td>\n",
              "      <td>malcolm simmons</td>\n",
              "      <td>malcolm</td>\n",
              "      <td>simmons</td>\n",
              "      <td>2014-02-01</td>\n",
              "      <td>Male</td>\n",
              "      <td>1993-03-25</td>\n",
              "      <td>23</td>\n",
              "      <td>Less than 25</td>\n",
              "      <td>African-American</td>\n",
              "      <td>...</td>\n",
              "      <td>5</td>\n",
              "      <td>Medium</td>\n",
              "      <td>2014-02-01</td>\n",
              "      <td>2014-01-31</td>\n",
              "      <td>2014-02-02</td>\n",
              "      <td>0</td>\n",
              "      <td>1</td>\n",
              "      <td>790</td>\n",
              "      <td>0</td>\n",
              "      <td>0</td>\n",
              "    </tr>\n",
              "    <tr>\n",
              "      <th>7211</th>\n",
              "      <td>10999</td>\n",
              "      <td>winston gregory</td>\n",
              "      <td>winston</td>\n",
              "      <td>gregory</td>\n",
              "      <td>2014-01-14</td>\n",
              "      <td>Male</td>\n",
              "      <td>1958-10-01</td>\n",
              "      <td>57</td>\n",
              "      <td>Greater than 45</td>\n",
              "      <td>Other</td>\n",
              "      <td>...</td>\n",
              "      <td>1</td>\n",
              "      <td>Low</td>\n",
              "      <td>2014-01-14</td>\n",
              "      <td>2014-01-13</td>\n",
              "      <td>2014-01-14</td>\n",
              "      <td>0</td>\n",
              "      <td>0</td>\n",
              "      <td>808</td>\n",
              "      <td>0</td>\n",
              "      <td>0</td>\n",
              "    </tr>\n",
              "    <tr>\n",
              "      <th>7212</th>\n",
              "      <td>11000</td>\n",
              "      <td>farrah jean</td>\n",
              "      <td>farrah</td>\n",
              "      <td>jean</td>\n",
              "      <td>2014-03-09</td>\n",
              "      <td>Female</td>\n",
              "      <td>1982-11-17</td>\n",
              "      <td>33</td>\n",
              "      <td>25 - 45</td>\n",
              "      <td>African-American</td>\n",
              "      <td>...</td>\n",
              "      <td>2</td>\n",
              "      <td>Low</td>\n",
              "      <td>2014-03-09</td>\n",
              "      <td>2014-03-08</td>\n",
              "      <td>2014-03-09</td>\n",
              "      <td>3</td>\n",
              "      <td>0</td>\n",
              "      <td>754</td>\n",
              "      <td>0</td>\n",
              "      <td>0</td>\n",
              "    </tr>\n",
              "    <tr>\n",
              "      <th>7213</th>\n",
              "      <td>11001</td>\n",
              "      <td>florencia sanmartin</td>\n",
              "      <td>florencia</td>\n",
              "      <td>sanmartin</td>\n",
              "      <td>2014-06-30</td>\n",
              "      <td>Female</td>\n",
              "      <td>1992-12-18</td>\n",
              "      <td>23</td>\n",
              "      <td>Less than 25</td>\n",
              "      <td>Hispanic</td>\n",
              "      <td>...</td>\n",
              "      <td>4</td>\n",
              "      <td>Low</td>\n",
              "      <td>2014-06-30</td>\n",
              "      <td>2015-03-15</td>\n",
              "      <td>2015-03-15</td>\n",
              "      <td>2</td>\n",
              "      <td>0</td>\n",
              "      <td>258</td>\n",
              "      <td>0</td>\n",
              "      <td>1</td>\n",
              "    </tr>\n",
              "  </tbody>\n",
              "</table>\n",
              "<p>7214 rows × 53 columns</p>\n",
              "</div>\n",
              "      <button class=\"colab-df-convert\" onclick=\"convertToInteractive('df-c60817ff-5b5a-482e-9662-cad884c4756c')\"\n",
              "              title=\"Convert this dataframe to an interactive table.\"\n",
              "              style=\"display:none;\">\n",
              "        \n",
              "  <svg xmlns=\"http://www.w3.org/2000/svg\" height=\"24px\"viewBox=\"0 0 24 24\"\n",
              "       width=\"24px\">\n",
              "    <path d=\"M0 0h24v24H0V0z\" fill=\"none\"/>\n",
              "    <path d=\"M18.56 5.44l.94 2.06.94-2.06 2.06-.94-2.06-.94-.94-2.06-.94 2.06-2.06.94zm-11 1L8.5 8.5l.94-2.06 2.06-.94-2.06-.94L8.5 2.5l-.94 2.06-2.06.94zm10 10l.94 2.06.94-2.06 2.06-.94-2.06-.94-.94-2.06-.94 2.06-2.06.94z\"/><path d=\"M17.41 7.96l-1.37-1.37c-.4-.4-.92-.59-1.43-.59-.52 0-1.04.2-1.43.59L10.3 9.45l-7.72 7.72c-.78.78-.78 2.05 0 2.83L4 21.41c.39.39.9.59 1.41.59.51 0 1.02-.2 1.41-.59l7.78-7.78 2.81-2.81c.8-.78.8-2.07 0-2.86zM5.41 20L4 18.59l7.72-7.72 1.47 1.35L5.41 20z\"/>\n",
              "  </svg>\n",
              "      </button>\n",
              "      \n",
              "  <style>\n",
              "    .colab-df-container {\n",
              "      display:flex;\n",
              "      flex-wrap:wrap;\n",
              "      gap: 12px;\n",
              "    }\n",
              "\n",
              "    .colab-df-convert {\n",
              "      background-color: #E8F0FE;\n",
              "      border: none;\n",
              "      border-radius: 50%;\n",
              "      cursor: pointer;\n",
              "      display: none;\n",
              "      fill: #1967D2;\n",
              "      height: 32px;\n",
              "      padding: 0 0 0 0;\n",
              "      width: 32px;\n",
              "    }\n",
              "\n",
              "    .colab-df-convert:hover {\n",
              "      background-color: #E2EBFA;\n",
              "      box-shadow: 0px 1px 2px rgba(60, 64, 67, 0.3), 0px 1px 3px 1px rgba(60, 64, 67, 0.15);\n",
              "      fill: #174EA6;\n",
              "    }\n",
              "\n",
              "    [theme=dark] .colab-df-convert {\n",
              "      background-color: #3B4455;\n",
              "      fill: #D2E3FC;\n",
              "    }\n",
              "\n",
              "    [theme=dark] .colab-df-convert:hover {\n",
              "      background-color: #434B5C;\n",
              "      box-shadow: 0px 1px 3px 1px rgba(0, 0, 0, 0.15);\n",
              "      filter: drop-shadow(0px 1px 2px rgba(0, 0, 0, 0.3));\n",
              "      fill: #FFFFFF;\n",
              "    }\n",
              "  </style>\n",
              "\n",
              "      <script>\n",
              "        const buttonEl =\n",
              "          document.querySelector('#df-c60817ff-5b5a-482e-9662-cad884c4756c button.colab-df-convert');\n",
              "        buttonEl.style.display =\n",
              "          google.colab.kernel.accessAllowed ? 'block' : 'none';\n",
              "\n",
              "        async function convertToInteractive(key) {\n",
              "          const element = document.querySelector('#df-c60817ff-5b5a-482e-9662-cad884c4756c');\n",
              "          const dataTable =\n",
              "            await google.colab.kernel.invokeFunction('convertToInteractive',\n",
              "                                                     [key], {});\n",
              "          if (!dataTable) return;\n",
              "\n",
              "          const docLinkHtml = 'Like what you see? Visit the ' +\n",
              "            '<a target=\"_blank\" href=https://colab.research.google.com/notebooks/data_table.ipynb>data table notebook</a>'\n",
              "            + ' to learn more about interactive tables.';\n",
              "          element.innerHTML = '';\n",
              "          dataTable['output_type'] = 'display_data';\n",
              "          await google.colab.output.renderOutput(dataTable, element);\n",
              "          const docLink = document.createElement('div');\n",
              "          docLink.innerHTML = docLinkHtml;\n",
              "          element.appendChild(docLink);\n",
              "        }\n",
              "      </script>\n",
              "    </div>\n",
              "  </div>\n",
              "  "
            ]
          },
          "metadata": {},
          "execution_count": 97
        }
      ]
    },
    {
      "cell_type": "markdown",
      "source": [
        "## Selecting the relevant features :"
      ],
      "metadata": {
        "id": "P2KA6VAJFvRZ"
      },
      "id": "P2KA6VAJFvRZ"
    },
    {
      "cell_type": "code",
      "source": [
        "# Select only Caucasian and African-American as our sensitive feature\n",
        "data = data[data[\"race\"].isin([\"Caucasian\",\"African-American\"])]"
      ],
      "metadata": {
        "id": "H_etxmg2Fye-"
      },
      "id": "H_etxmg2Fye-",
      "execution_count": null,
      "outputs": []
    },
    {
      "cell_type": "code",
      "source": [
        "# Select the features to predict the target y\n",
        "X = data[[\"sex\",\"age_cat\",\"priors_count.1\",\"race\"]]\n",
        "y = data[\"two_year_recid\"]\n",
        "\n",
        "# Encode the categorical_features\n",
        "for categorical_feature in [\"sex\",\"age_cat\",\"race\"]:\n",
        "  categorical_variable = pd.get_dummies(X[categorical_feature]).iloc[:,0]\n",
        "  X = pd.concat([X,categorical_variable],axis=1)\n",
        "  X = X.drop(categorical_feature,axis=1)\n",
        "  X = X.rename(columns={list(X)[-1]:categorical_feature})"
      ],
      "metadata": {
        "id": "2o-vU7b2HmS2"
      },
      "id": "2o-vU7b2HmS2",
      "execution_count": null,
      "outputs": []
    },
    {
      "cell_type": "markdown",
      "source": [
        "## Constructing our training and test set:"
      ],
      "metadata": {
        "id": "2kbXDqnTOaUF"
      },
      "id": "2kbXDqnTOaUF"
    },
    {
      "cell_type": "code",
      "source": [
        "# Construct the training and test set\n",
        "X_train, X_test, y_train, y_test = train_test_split(X, y, test_size=1/7, random_state=42)"
      ],
      "metadata": {
        "id": "FM9xMNWRNev3"
      },
      "id": "FM9xMNWRNev3",
      "execution_count": null,
      "outputs": []
    },
    {
      "cell_type": "markdown",
      "source": [
        "# 2. Implementing the Fairness model :"
      ],
      "metadata": {
        "id": "ToMm-_50OmTm"
      },
      "id": "ToMm-_50OmTm"
    },
    {
      "cell_type": "markdown",
      "source": [
        "## Defining the logistic loss:"
      ],
      "metadata": {
        "id": "AAbCJuGoOvgF"
      },
      "id": "AAbCJuGoOvgF"
    },
    {
      "cell_type": "code",
      "source": [
        "from sklearn.utils.extmath import weighted_mode\n",
        "\n",
        "def logistic_loss(X,y,weight):\n",
        "  '''\n",
        "      Compute the logistic loss using the data set [X,y]\n",
        "\n",
        "      Parameters\n",
        "      ----------\n",
        "      X : arrays\n",
        "        Training features\n",
        "      y : arrays \n",
        "        Training target\n",
        "      weight : array of size num_features\n",
        "        The weight of our logistic regression model\n",
        "  '''\n",
        "  return 1/len(X)*cp.sum(cp.logistic(X @ weight)-cp.multiply(y,X @ weight))"
      ],
      "metadata": {
        "id": "Z-PRi9pOOp2j"
      },
      "id": "Z-PRi9pOOp2j",
      "execution_count": 493,
      "outputs": []
    },
    {
      "cell_type": "markdown",
      "source": [
        "## Implementing the DM model:"
      ],
      "metadata": {
        "id": "yh23wonFUDK0"
      },
      "id": "yh23wonFUDK0"
    },
    {
      "cell_type": "code",
      "source": [
        "class boundary_decision:\n",
        "  ''' \n",
        "      This class compute the boundary decision as\n",
        "      defined in the paper for different decision\n",
        "\n",
        "      ...\n",
        "\n",
        "      Parameters :\n",
        "      ------------\n",
        "\n",
        "      decision : str\n",
        "          name of the missclassification measure tackled\n",
        "          choice in (\"OMR\",\"FPR\",\"FNR\")\n",
        "  '''\n",
        "\n",
        "  def __init__(self, decision=\"OMR\"):\n",
        "    self.decision = decision\n",
        "\n",
        "  def __call__(self,X,y, weight):\n",
        "    '''\n",
        "    Return the boundary decision (g_theta in the paper) according to the \n",
        "    missclassification measure we want to tackled\n",
        "\n",
        "    Parameters :\n",
        "    ------------\n",
        "    X : arrays\n",
        "        Training features\n",
        "    y : arrays \n",
        "        Training target\n",
        "    weight : array of size num_features\n",
        "        The weight of our logistic regression model\n",
        "    '''\n",
        "    if self.decision == \"OMR\":\n",
        "      return cp.minimum(0, cp.multiply(y,(X @ weight)))\n",
        "    if self.decision == \"FPR\":\n",
        "      return cp.minimum(0, cp.multiply((1-y)*(2*y-1),(X @ weight)))\n",
        "    if self.decision == \"FNR\":\n",
        "      return cp.minimum(0, cp.multiply(y*(2*y-1),(X @ weight)))\n",
        "  \n",
        "  def convexified(self,X,y, weight, new_weight):\n",
        "    '''\n",
        "    Return the linearized boundary decision around an input weight according to the \n",
        "    missclassification measure we want to tackled\n",
        "\n",
        "    Parameters :\n",
        "    ------------\n",
        "    X : arrays\n",
        "        Training features\n",
        "    y : arrays \n",
        "        Training target\n",
        "    weight : array of size num_features\n",
        "        The weight around which the boundary decision is\n",
        "        linearized\n",
        "    new_weight : array of size num_features\n",
        "        The weight in which we want to evaluate the \n",
        "        convexified boundary decision\n",
        "    '''\n",
        "    if self.decision == \"OMR\":\n",
        "      dirac = y*(X @ weight)>=0\n",
        "      return self(X,y,weight)+cp.multiply(y*dirac,(X @ (new_weight-weight)))\n",
        "\n",
        "    if self.decision == \"FPR\":\n",
        "      dirac = (1-y)*(2*y-1)*(X @ weight)<=0\n",
        "      return self(X,y,weight)+cp.multiply(dirac*(1-y)*(2*y-1),X @ (new_weight-weight))\n",
        "      \n",
        "    if self.decision == \"FNR\":\n",
        "      dirac = y*(2*y-1)*(X @ weight) <=0\n",
        "      return self(X,y,weight)+ cp.multiply(dirac*y*(2*y-1),X @ (new_weight-weight))"
      ],
      "metadata": {
        "id": "Xnz2qRxvnDLd"
      },
      "id": "Xnz2qRxvnDLd",
      "execution_count": 494,
      "outputs": []
    },
    {
      "cell_type": "code",
      "source": [
        "class DM:\n",
        "    ''' \n",
        "        This class compute a default solver \n",
        "        to get train a classifier without disparate treatment.\n",
        "        Only logistic classifier was implemented yet but new implementation\n",
        "        can be seen by changing the loss.\n",
        "\n",
        "        ...\n",
        "\n",
        "        Parameters :\n",
        "        ------------\n",
        "\n",
        "        X : arrays\n",
        "            Training features\n",
        "        y : arrays \n",
        "            Training target\n",
        "        weight : array of size num_features\n",
        "            Initial weight of our logistic regression model\n",
        "        method : str\n",
        "            name of the missclassification measure tackled\n",
        "            choice in (\"OMR\",\"FPR\",\"FNR\")\n",
        "        \n",
        "        Hyperparameters :\n",
        "        ------------\n",
        "        c : float\n",
        "            Lower-upper bound of the constraint in the DM formulation\n",
        "        tau : float\n",
        "            Initial penalization constant of the slack variables in the CCP solver\n",
        "        mu : float\n",
        "            At each iteration of the solver, we increase tau by tau*mu\n",
        "    '''\n",
        "\n",
        "    def __init__(self, X, y, weight=np.zeros(4), c=0.1, tau=0.1, mu=1.1, method=\"OMR\"):\n",
        "      self.X = X\n",
        "      self.y = y\n",
        "      self.c = cp.Parameter(value=c)\n",
        "      self.weight = weight\n",
        "      self.si = cp.Variable(2,nonneg=True)\n",
        "      self.tau = tau\n",
        "      self.history = []\n",
        "      self.weight_k = cp.Variable(4, value = weight)\n",
        "      self.z = X[:,-1]\n",
        "      self.g = boundary_decision(method)\n",
        "\n",
        "    def solve_subproblem(self):\n",
        "      '''\n",
        "      This function is call by the CCP solver build from scratch.\n",
        "      Solve the subproblem as defined in the CCP solver.\n",
        "      '''\n",
        "      N = len(X[:,-1])\n",
        "      N1 = sum(X[:,-1])\n",
        "      N0 = N-N1\n",
        "      constraints = [\n",
        "               -N1/N*cp.sum(cp.multiply(self.z==0,self.g(self.X,self.y,self.weight_k)))+ N0/N*cp.sum(cp.multiply(self.z==1,self.g.convexified(self.X,self.y,self.weight,self.weight_k)))<=self.c+self.si[0],\n",
        "               -N0/N*cp.sum(cp.multiply(self.z==1,self.g(self.X,self.y,self.weight_k)))+ N1/N*cp.sum(cp.multiply(self.z==0,self.g.convexified(self.X,self.y,self.weight,self.weight_k)))<=self.c+self.si[1]\n",
        "               ]\n",
        "      loss = logistic_loss(self.X,self.y)(self.weight_k)\n",
        "      obj = cp.Minimize(loss+self.tau*cp.sum(self.si))\n",
        "      prob = cp.Problem(obj,constraints=constraints)\n",
        "      res = prob.solve(warm_start = True)\n",
        "      print(prob.status)\n",
        "      self.history.append(res)\n",
        "    \n",
        "    def predict(self,X_test):\n",
        "      '''\n",
        "      Compute the prediction of our logistic regression model using\n",
        "      the resulting weights.\n",
        "\n",
        "      Parameters :\n",
        "      -----------\n",
        "      X_test : array\n",
        "          New set of features on which we make our prediction\n",
        "      '''\n",
        "      prob = np.exp(X_test @ self.weight_k.value)/(1+np.exp(X_test @ self.weight_k.value))\n",
        "      return np.vectorize(lambda p: int(p>=0.5))(prob)\n",
        "    \n",
        "    def accuracy(self, X_val, y_val):\n",
        "      '''\n",
        "      Return the accuracy of our model by computing\n",
        "      the average number of TRP and FRP over the \n",
        "      data set [X_val, y_val]\n",
        "\n",
        "      Parameters : \n",
        "      -------------\n",
        "      X_val : array\n",
        "          Set of features on which we want to evaluate the accuracy\n",
        "          of our model\n",
        "      y_val : array\n",
        "          The target we are trying to reach when evaluating our model\n",
        "      '''\n",
        "      y_hat  = self.predict(X_val)\n",
        "      return np.sum(y_hat==y_val)/len(y_val)\n",
        "\n",
        "\n",
        "    def solve(self,T):\n",
        "      '''\n",
        "      CCP solver build from scratch based on the proposed algorithm\n",
        "\n",
        "      Parameters :\n",
        "      -------------\n",
        "      T : int\n",
        "          Number of iteration the solver is run.\n",
        "          Should we replace it by a termination criterion ?\n",
        "      '''\n",
        "      for i in range(T):\n",
        "        # We split the data into a training and validation set at each step\n",
        "        self.X, X_val, self.y, y_val = train_test_split(self.X,self.y,test_size=1/7)\n",
        "        self.z = X[:,-1]\n",
        "        self.solve_subproblem()\n",
        "        self.tau = np.minimum(self.tau*1.1,1)\n",
        "        self.weight = self.weight_k.value\n",
        "        print(\"epoch {} - accuracy {:.3f} - val_accuracy {:.3f}\".format(i,self.accuracy(self.X,self.y), self.accuracy(X_val,y_val)))\n",
        "        self.X = np.concatenate([self.X,X_val])\n",
        "        self.y = np.concatenate([self.y,y_val])\n",
        "      \n",
        "    def solve_DCCP(self):\n",
        "      '''\n",
        "      Solve the DM formulation using the DCCP package\n",
        "      '''\n",
        "      self.X, X_val, self.y, y_val = train_test_split(self.X,self.y,test_size=1/7)\n",
        "      self.z = X[:,-1]\n",
        "      N = len(X[:,-1])\n",
        "      N1 = sum(X[:,-1])\n",
        "      N0 = N-N1\n",
        "      constraints = [\n",
        "               -N1/N*cp.sum(cp.multiply(self.z==0,self.g(self.X,self.y,self.weight_k)))<=self.c - N0/N*cp.sum(cp.multiply(self.z==1,self.g(self.X,self.y,self.weight_k))),\n",
        "               -N0/N*cp.sum(cp.multiply(self.z==1,self.g(self.X,self.y,self.weight_k)))<=self.c - N1/N*cp.sum(cp.multiply(self.z==0,self.g(self.X,self.y,self.weight_k)))\n",
        "               ]\n",
        "      loss = logistic_loss(self.X,self.y)(self.weight_k)\n",
        "      obj = cp.Minimize(loss)\n",
        "      prob = cp.Problem(obj,constraints=constraints)\n",
        "      result = prob.solve(method='dccp', warm_start=True)\n",
        "      print(prob.status)\n",
        "      print(\"accuracy {:.3f} - val_accuracy {:.3f}\".format(self.accuracy(self.X,self.y), self.accuracy(X_val,y_val)))\n",
        "      self.X = np.concatenate([self.X,X_val])\n",
        "      self.y = np.concatenate([self.y,y_val])\n"
      ],
      "metadata": {
        "id": "BaIXk1Xe4WdN"
      },
      "id": "BaIXk1Xe4WdN",
      "execution_count": 3,
      "outputs": []
    },
    {
      "cell_type": "code",
      "source": [
        "solver = DM(X_train.to_numpy(),y_train.to_numpy())"
      ],
      "metadata": {
        "id": "4mIr7agIPuQc"
      },
      "id": "4mIr7agIPuQc",
      "execution_count": null,
      "outputs": []
    },
    {
      "cell_type": "code",
      "source": [
        "solver.solve(10)"
      ],
      "metadata": {
        "colab": {
          "base_uri": "https://localhost:8080/"
        },
        "id": "aCbmit8JCYEC",
        "outputId": "500d97ff-8913-4f0f-92f0-8df2b3ec8ecd"
      },
      "id": "aCbmit8JCYEC",
      "execution_count": null,
      "outputs": [
        {
          "output_type": "stream",
          "name": "stdout",
          "text": [
            "optimal\n",
            "epoch 0 - accuracy 0.500 - val_accuracy 0.517\n",
            "optimal\n",
            "epoch 1 - accuracy 0.566 - val_accuracy 0.578\n",
            "optimal\n",
            "epoch 2 - accuracy 0.576 - val_accuracy 0.562\n",
            "optimal\n",
            "epoch 3 - accuracy 0.606 - val_accuracy 0.572\n",
            "optimal\n",
            "epoch 4 - accuracy 0.592 - val_accuracy 0.614\n",
            "optimal\n",
            "epoch 5 - accuracy 0.598 - val_accuracy 0.591\n",
            "optimal\n",
            "epoch 6 - accuracy 0.597 - val_accuracy 0.590\n",
            "optimal\n",
            "epoch 7 - accuracy 0.595 - val_accuracy 0.604\n",
            "optimal\n",
            "epoch 8 - accuracy 0.598 - val_accuracy 0.576\n",
            "optimal\n",
            "epoch 9 - accuracy 0.599 - val_accuracy 0.588\n"
          ]
        }
      ]
    },
    {
      "cell_type": "code",
      "source": [
        "plt.plot(solver.history)"
      ],
      "metadata": {
        "colab": {
          "base_uri": "https://localhost:8080/",
          "height": 283
        },
        "id": "UR5kpBgXGNvB",
        "outputId": "c5732322-a9cb-4034-c150-6e9ab77e39a4"
      },
      "id": "UR5kpBgXGNvB",
      "execution_count": null,
      "outputs": [
        {
          "output_type": "execute_result",
          "data": {
            "text/plain": [
              "[<matplotlib.lines.Line2D at 0x7fe58c934390>]"
            ]
          },
          "metadata": {},
          "execution_count": 443
        },
        {
          "output_type": "display_data",
          "data": {
            "text/plain": [
              "<Figure size 432x288 with 1 Axes>"
            ],
            "image/png": "[encoded data removed]"
          },
          "metadata": {
            "needs_background": "light"
          }
        }
      ]
    },
    {
      "cell_type": "code",
      "source": [
        "solver.solve_DCCP()"
      ],
      "metadata": {
        "colab": {
          "base_uri": "https://localhost:8080/"
        },
        "id": "xrJFhTe0Xm9y",
        "outputId": "7ca0ea9d-501c-495b-b5b3-f74d20858f86"
      },
      "id": "xrJFhTe0Xm9y",
      "execution_count": null,
      "outputs": [
        {
          "output_type": "stream",
          "name": "stdout",
          "text": [
            "Converged\n",
            "accuracy 0.595 - val_accuracy 0.587\n"
          ]
        }
      ]
    },
    {
      "cell_type": "code",
      "source": [
        "from sklearn.linear_model import LogisticRegression\n",
        "model = LogisticRegression(random_state=42).fit(X_train,y_train)\n",
        "model.score(X_test,y_test)"
      ],
      "metadata": {
        "colab": {
          "base_uri": "https://localhost:8080/"
        },
        "id": "4w5gDpOqUe4p",
        "outputId": "685a2e4c-71c7-422f-8e87-92233930535e"
      },
      "id": "4w5gDpOqUe4p",
      "execution_count": null,
      "outputs": [
        {
          "output_type": "execute_result",
          "data": {
            "text/plain": [
              "0.6313993174061433"
            ]
          },
          "metadata": {},
          "execution_count": 380
        }
      ]
    }
  ],
  "metadata": {
    "kernelspec": {
      "display_name": "Python 3",
      "language": "python",
      "name": "python3"
    },
    "language_info": {
      "codemirror_mode": {
        "name": "ipython",
        "version": 3
      },
      "file_extension": ".py",
      "mimetype": "text/x-python",
      "name": "python",
      "nbconvert_exporter": "python",
      "pygments_lexer": "ipython3",
      "version": "3.8.8"
    },
    "colab": {
      "name": "DM.ipynb",
      "provenance": [],
      "collapsed_sections": [],
      "toc_visible": true,
      "include_colab_link": true
    }
  },
  "nbformat": 4,
  "nbformat_minor": 5
}